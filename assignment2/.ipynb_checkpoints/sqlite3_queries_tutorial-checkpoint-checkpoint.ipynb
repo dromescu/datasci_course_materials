{
 "cells": [
  {
   "cell_type": "code",
   "execution_count": 1,
   "metadata": {
    "collapsed": true
   },
   "outputs": [],
   "source": [
    "import sqlite3\n",
    "\n",
    "from prettytable import PrettyTable"
   ]
  },
  {
   "cell_type": "markdown",
   "metadata": {},
   "source": [
    "The [sqlite3](https://docs.python.org/2/library/sqlite3.html) library has been available as part of the Python Standard Library as of version 2.5, and _is a C library that provides a lightweight disk-based database that doesn’t require a separate server process and allows accessing the database using a nonstandard variant of the SQL query language._"
   ]
  },
  {
   "cell_type": "markdown",
   "metadata": {},
   "source": [
    "We'll also be using the [prettytable](http://code.google.com/p/prettytable/wiki/Tutorial) library to print out the results nicely. \n",
    "\n",
    "It was already present in my Linux Mint version of PyCharm, but if needed, [installation instructions should be here.](http://code.google.com/p/prettytable/wiki/Installation)"
   ]
  },
  {
   "cell_type": "markdown",
   "metadata": {},
   "source": [
    "---"
   ]
  },
  {
   "cell_type": "markdown",
   "metadata": {},
   "source": [
    "Ok, so let's get started! \n",
    "\n",
    "First create a [Connection](https://docs.python.org/2/library/sqlite3.html#sqlite3.Connection) object that represents the database."
   ]
  },
  {
   "cell_type": "code",
   "execution_count": 2,
   "metadata": {
    "collapsed": true
   },
   "outputs": [],
   "source": [
    "connection = sqlite3.connect('reuters.db')"
   ]
  },
  {
   "cell_type": "markdown",
   "metadata": {},
   "source": [
    "Once we have a a [Connection](https://docs.python.org/2/library/sqlite3.html#sqlite3.Connection), you can create a [Cursor](https://docs.python.org/2/library/sqlite3.html#sqlite3.Cursor) object which will execute SQL statements/queries on the database with its [.execute()](https://docs.python.org/2/library/sqlite3.html#sqlite3.Cursor.execute) method."
   ]
  },
  {
   "cell_type": "code",
   "execution_count": 3,
   "metadata": {
    "collapsed": true
   },
   "outputs": [],
   "source": [
    "cursor = connection.cursor()"
   ]
  },
  {
   "cell_type": "code",
   "execution_count": 4,
   "metadata": {
    "collapsed": false
   },
   "outputs": [],
   "source": [
    "query = '''\n",
    "SELECT *\n",
    "FROM frequency as f\n",
    "WHERE term = 'net'\n",
    "AND count = 5\n",
    "'''"
   ]
  },
  {
   "cell_type": "code",
   "execution_count": 5,
   "metadata": {
    "collapsed": false
   },
   "outputs": [],
   "source": [
    "results_generator = cursor.execute(query)"
   ]
  },
  {
   "cell_type": "markdown",
   "metadata": {},
   "source": [
    "---"
   ]
  },
  {
   "cell_type": "markdown",
   "metadata": {},
   "source": [
    "Executing our query with the Cursor object returns a [generator](https://www.jeffknupp.com/blog/2013/04/07/improve-your-python-yield-and-generators-explained/) which yields each new result without smashing everything into memory at once."
   ]
  },
  {
   "cell_type": "markdown",
   "metadata": {},
   "source": [
    "It has a [.next()](http://anandology.com/python-practice-book/iterators.html) method if we want to the next result. We can run this until all results are exhausted, or just iterate through with a for loop."
   ]
  },
  {
   "cell_type": "code",
   "execution_count": 6,
   "metadata": {
    "collapsed": false
   },
   "outputs": [
    {
     "data": {
      "text/plain": [
       "(u'12616_txt_earn', u'net', 5)"
      ]
     },
     "execution_count": 6,
     "metadata": {},
     "output_type": "execute_result"
    }
   ],
   "source": [
    "results_generator.next()"
   ]
  },
  {
   "cell_type": "markdown",
   "metadata": {},
   "source": [
    "Let's execute our query again real quick, since we 'yielded the first result out of our object' in our previous example."
   ]
  },
  {
   "cell_type": "code",
   "execution_count": 7,
   "metadata": {
    "collapsed": true
   },
   "outputs": [],
   "source": [
    "results_generator = cursor.execute(query)"
   ]
  },
  {
   "cell_type": "markdown",
   "metadata": {},
   "source": [
    "---"
   ]
  },
  {
   "cell_type": "markdown",
   "metadata": {},
   "source": [
    "## [(Pretty) Printing](https://code.google.com/p/prettytable/wiki/Tutorial) out our results table."
   ]
  },
  {
   "cell_type": "markdown",
   "metadata": {},
   "source": [
    "Column names are stored in the description attribute of the sqlite3 cursor object.\n",
    "\n",
    "It is a list of tuples with the first position containing the column name."
   ]
  },
  {
   "cell_type": "code",
   "execution_count": 8,
   "metadata": {
    "collapsed": true
   },
   "outputs": [],
   "source": [
    "colnames = [colname[0] for colname in results_generator.description]"
   ]
  },
  {
   "cell_type": "code",
   "execution_count": 9,
   "metadata": {
    "collapsed": false
   },
   "outputs": [],
   "source": [
    "# Instantiate a PrettyTable object with our column names.\n",
    "table_output = PrettyTable(colnames)\n",
    "\n",
    "# Sets padding between columns. Default is 1.\n",
    "table_output.padding_width = 1\n",
    "\n",
    "# Add each row to the table for printing. Only useful if table fits in memory.\n",
    "for row in results_generator:\n",
    "     table_output.add_row(row) "
   ]
  },
  {
   "cell_type": "code",
   "execution_count": 10,
   "metadata": {
    "collapsed": false
   },
   "outputs": [
    {
     "name": "stdout",
     "output_type": "stream",
     "text": [
      "+----------------+------+-------+\n",
      "|     docid      | term | count |\n",
      "+----------------+------+-------+\n",
      "| 12616_txt_earn | net  |   5   |\n",
      "| 1314_txt_earn  | net  |   5   |\n",
      "| 1438_txt_earn  | net  |   5   |\n",
      "| 1602_txt_earn  | net  |   5   |\n",
      "| 16848_txt_earn | net  |   5   |\n",
      "| 20291_txt_earn | net  |   5   |\n",
      "| 20324_txt_earn | net  |   5   |\n",
      "| 20728_txt_earn | net  |   5   |\n",
      "| 21412_txt_earn | net  |   5   |\n",
      "| 2253_txt_earn  | net  |   5   |\n",
      "| 2789_txt_earn  | net  |   5   |\n",
      "| 4067_txt_earn  | net  |   5   |\n",
      "| 4307_txt_earn  | net  |   5   |\n",
      "| 4914_txt_earn  | net  |   5   |\n",
      "| 5543_txt_earn  | net  |   5   |\n",
      "| 5925_txt_earn  | net  |   5   |\n",
      "| 6466_txt_earn  | net  |   5   |\n",
      "|  696_txt_earn  | net  |   5   |\n",
      "| 8979_txt_earn  | net  |   5   |\n",
      "| 9502_txt_earn  | net  |   5   |\n",
      "| 9818_txt_earn  | net  |   5   |\n",
      "| 9839_txt_earn  | net  |   5   |\n",
      "| 9937_txt_earn  | net  |   5   |\n",
      "+----------------+------+-------+\n"
     ]
    }
   ],
   "source": [
    "print table_output"
   ]
  },
  {
   "cell_type": "markdown",
   "metadata": {},
   "source": [
    "--- "
   ]
  },
  {
   "cell_type": "markdown",
   "metadata": {},
   "source": [
    "Noticing that the only parameters that are changing are the database name and query, we can just wrap it in a quick function like any good ~~lazy~~ programmer would."
   ]
  },
  {
   "cell_type": "code",
   "execution_count": 11,
   "metadata": {
    "collapsed": true
   },
   "outputs": [],
   "source": [
    "def query_db(database_name, query):\n",
    "    '''Opens a connections to a SQL database using the sql3lite Python library,\n",
    "        and runs a provided query on the database.\n",
    "\n",
    "    Args:\n",
    "        database_name (string): String containing the name of the database to\n",
    "         be opened.\n",
    "\n",
    "        query (string): SQL query to be executed on the database\n",
    "\n",
    "    Returns:\n",
    "        tabled_results (PrettyTable object): Results in a table to be printed.\n",
    "    '''\n",
    "    connection = sqlite3.connect(database_name)\n",
    "    cursor = connection.cursor()\n",
    "    results_generator = cursor.execute(query)\n",
    "\n",
    "    tabled_results = pprint_results(results_generator)\n",
    "    return tabled_results\n",
    "    \n",
    "def pprint_results(results_generator):\n",
    "    ''' Formats results from sql3lite query into a nicer format to be printed.\n",
    "\n",
    "    Add columns from the sql database, and ascii separators.\n",
    "\n",
    "    Note: Put all results into memory to construct table.\n",
    "\n",
    "    Args:\n",
    "        results_generator (sqlite3.Cursor object): Cursor object containing the\n",
    "            results after executing a query on it.\n",
    "\n",
    "    Returns:\n",
    "        table_output (PrettyTable object): A PrettyTable object containing the\n",
    "         results of the SQL query in a nicely formatted container.\n",
    "    '''\n",
    "\n",
    "    colnames = [colname[0] for colname in results_generator.description]\n",
    "\n",
    "    table_output = PrettyTable(colnames)\n",
    "    table_output.padding_width = 1\n",
    "\n",
    "    for row in results_generator:\n",
    "         table_output.add_row(row)\n",
    "\n",
    "    return table_output"
   ]
  },
  {
   "cell_type": "code",
   "execution_count": 12,
   "metadata": {
    "collapsed": true
   },
   "outputs": [],
   "source": [
    "database_name = 'reuters.db'"
   ]
  },
  {
   "cell_type": "code",
   "execution_count": 13,
   "metadata": {
    "collapsed": true
   },
   "outputs": [],
   "source": [
    "query = '''\n",
    "SELECT *\n",
    "FROM frequency\n",
    "WHERE term = 'net'\n",
    "AND count = 5\n",
    "'''"
   ]
  },
  {
   "cell_type": "code",
   "execution_count": 14,
   "metadata": {
    "collapsed": false
   },
   "outputs": [
    {
     "name": "stdout",
     "output_type": "stream",
     "text": [
      "+----------------+------+-------+\n",
      "|     docid      | term | count |\n",
      "+----------------+------+-------+\n",
      "| 12616_txt_earn | net  |   5   |\n",
      "| 1314_txt_earn  | net  |   5   |\n",
      "| 1438_txt_earn  | net  |   5   |\n",
      "| 1602_txt_earn  | net  |   5   |\n",
      "| 16848_txt_earn | net  |   5   |\n",
      "| 20291_txt_earn | net  |   5   |\n",
      "| 20324_txt_earn | net  |   5   |\n",
      "| 20728_txt_earn | net  |   5   |\n",
      "| 21412_txt_earn | net  |   5   |\n",
      "| 2253_txt_earn  | net  |   5   |\n",
      "| 2789_txt_earn  | net  |   5   |\n",
      "| 4067_txt_earn  | net  |   5   |\n",
      "| 4307_txt_earn  | net  |   5   |\n",
      "| 4914_txt_earn  | net  |   5   |\n",
      "| 5543_txt_earn  | net  |   5   |\n",
      "| 5925_txt_earn  | net  |   5   |\n",
      "| 6466_txt_earn  | net  |   5   |\n",
      "|  696_txt_earn  | net  |   5   |\n",
      "| 8979_txt_earn  | net  |   5   |\n",
      "| 9502_txt_earn  | net  |   5   |\n",
      "| 9818_txt_earn  | net  |   5   |\n",
      "| 9839_txt_earn  | net  |   5   |\n",
      "| 9937_txt_earn  | net  |   5   |\n",
      "+----------------+------+-------+\n"
     ]
    }
   ],
   "source": [
    "print query_db(database_name, query)"
   ]
  },
  {
   "cell_type": "code",
   "execution_count": 15,
   "metadata": {
    "collapsed": true
   },
   "outputs": [],
   "source": [
    "new_query = '''\n",
    "SELECT *\n",
    "FROM frequency\n",
    "WHERE term = 'net'\n",
    "AND count = 6\n",
    "'''"
   ]
  },
  {
   "cell_type": "code",
   "execution_count": 16,
   "metadata": {
    "collapsed": false
   },
   "outputs": [
    {
     "name": "stdout",
     "output_type": "stream",
     "text": [
      "+-----------------+------+-------+\n",
      "|      docid      | term | count |\n",
      "+-----------------+------+-------+\n",
      "|  1011_txt_earn  | net  |   6   |\n",
      "| 17199_txt_crude | net  |   6   |\n",
      "|  20393_txt_earn | net  |   6   |\n",
      "|  21248_txt_earn | net  |   6   |\n",
      "|  21260_txt_earn | net  |   6   |\n",
      "|  21386_txt_earn | net  |   6   |\n",
      "|  4788_txt_earn  | net  |   6   |\n",
      "|  8999_txt_earn  | net  |   6   |\n",
      "+-----------------+------+-------+\n"
     ]
    }
   ],
   "source": [
    "print query_db(database_name, new_query)"
   ]
  },
  {
   "cell_type": "markdown",
   "metadata": {},
   "source": [
    "---"
   ]
  },
  {
   "cell_type": "markdown",
   "metadata": {},
   "source": [
    "Quick aside regarding the instructions:\n",
    "\n"
   ]
  },
  {
   "cell_type": "markdown",
   "metadata": {},
   "source": [
    "---\n",
    "_Many questions ask you to count the number of records returned by a query. Perhaps the easiest way to count the number of records returned by a query Q is to write Q as a subquery:_\n",
    "\n",
    "```SELECT count(*) FROM (\n",
    "  SELECT ...\n",
    ") x;```\n",
    "\n",
    "_(In SQLite, the alias \"x\" is not required, but in other dialects of SQL it is. So we've included it here.)_\n",
    "\n",
    "---"
   ]
  },
  {
   "cell_type": "markdown",
   "metadata": {},
   "source": [
    "If you're like me, and at first said.. \"what?\", hopefully this helps!\n",
    "\n",
    "#### Nesting SQL queries working example"
   ]
  },
  {
   "cell_type": "code",
   "execution_count": 17,
   "metadata": {
    "collapsed": true
   },
   "outputs": [],
   "source": [
    "# Following the same instruction syntax using our previous query\n",
    "\n",
    "nested_query = '''\n",
    "SELECT count(*)\n",
    "FROM (SELECT *\n",
    "      FROM frequency\n",
    "      WHERE term = 'net'\n",
    "      AND count = 6) x;\n",
    "'''"
   ]
  },
  {
   "cell_type": "code",
   "execution_count": 18,
   "metadata": {
    "collapsed": false
   },
   "outputs": [
    {
     "name": "stdout",
     "output_type": "stream",
     "text": [
      "+----------+\n",
      "| count(*) |\n",
      "+----------+\n",
      "|    8     |\n",
      "+----------+\n"
     ]
    }
   ],
   "source": [
    "print query_db(database_name, nested_query)"
   ]
  },
  {
   "cell_type": "markdown",
   "metadata": {},
   "source": [
    "And of course, since this is Python, we could just make a template string out of the count query string, and pass in our original queries into the right place with [Python's .format() method](https://docs.python.org/2/library/stdtypes.html#str.format) on strings."
   ]
  },
  {
   "cell_type": "code",
   "execution_count": 19,
   "metadata": {
    "collapsed": false
   },
   "outputs": [
    {
     "name": "stdout",
     "output_type": "stream",
     "text": [
      "+----------+\n",
      "| count(*) |\n",
      "+----------+\n",
      "|    23    |\n",
      "+----------+\n"
     ]
    }
   ],
   "source": [
    "nested_query_template = '''\n",
    "SELECT count(*)\n",
    "FROM ({0}) x;\n",
    "'''.format(query)\n",
    "\n",
    "print query_db(database_name, nested_query_template)"
   ]
  },
  {
   "cell_type": "code",
   "execution_count": 20,
   "metadata": {
    "collapsed": false
   },
   "outputs": [
    {
     "name": "stdout",
     "output_type": "stream",
     "text": [
      "+----------+\n",
      "| count(*) |\n",
      "+----------+\n",
      "|    8     |\n",
      "+----------+\n"
     ]
    }
   ],
   "source": [
    "nested_query_template = '''\n",
    "SELECT count(*)\n",
    "FROM ({0}) x;\n",
    "'''.format(new_query)\n",
    "\n",
    "print query_db(database_name, nested_query_template)"
   ]
  },
  {
   "cell_type": "markdown",
   "metadata": {},
   "source": [
    "But a function might be better there too. ;)"
   ]
  },
  {
   "cell_type": "markdown",
   "metadata": {},
   "source": [
    "---"
   ]
  },
  {
   "cell_type": "markdown",
   "metadata": {},
   "source": [
    "That's it! That should be enough for some basic SQL querying. :)"
   ]
  },
  {
   "cell_type": "markdown",
   "metadata": {},
   "source": [
    "Disclaimer: This probably only works well for valid SQL queries. "
   ]
  },
  {
   "cell_type": "markdown",
   "metadata": {},
   "source": [
    "---"
   ]
  },
  {
   "cell_type": "markdown",
   "metadata": {},
   "source": [
    "Author: Fernando Hernandez\n",
    "\n",
    "First Draft"
   ]
  }
 ],
 "metadata": {
  "kernelspec": {
   "display_name": "Python 2",
   "language": "python",
   "name": "python2"
  },
  "language_info": {
   "codemirror_mode": {
    "name": "ipython",
    "version": 2
   },
   "file_extension": ".py",
   "mimetype": "text/x-python",
   "name": "python",
   "nbconvert_exporter": "python",
   "pygments_lexer": "ipython2",
   "version": "2.7.13"
  }
 },
 "nbformat": 4,
 "nbformat_minor": 0
}
