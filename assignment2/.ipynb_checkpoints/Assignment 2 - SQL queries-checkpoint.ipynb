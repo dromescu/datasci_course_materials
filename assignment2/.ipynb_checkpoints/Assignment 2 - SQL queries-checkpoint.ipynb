{
 "cells": [
  {
   "cell_type": "code",
   "execution_count": 1,
   "metadata": {
    "collapsed": false
   },
   "outputs": [],
   "source": [
    "from sql_queries import query_db, pprint_results\n",
    "\n",
    "%load_ext autoreload\n",
    "%autoreload 2"
   ]
  },
  {
   "cell_type": "code",
   "execution_count": 2,
   "metadata": {
    "collapsed": true
   },
   "outputs": [],
   "source": [
    "db_name = 'reuters.db'"
   ]
  },
  {
   "cell_type": "markdown",
   "metadata": {},
   "source": [
    "# Inspecting the Reuters Dataset and Basic Relational Algebra"
   ]
  },
  {
   "cell_type": "markdown",
   "metadata": {},
   "source": [
    "__select__"
   ]
  },
  {
   "cell_type": "markdown",
   "metadata": {},
   "source": [
    "Write a query that is equivalent to the following relational algebra expressions."
   ]
  },
  {
   "cell_type": "markdown",
   "metadata": {},
   "source": [
    "$σ_{docid=10398-txt-earn}(frequency)$\n",
    "\n",
    "Run your query against your local database and determine the number of records returned. "
   ]
  },
  {
   "cell_type": "code",
   "execution_count": 3,
   "metadata": {
    "collapsed": false
   },
   "outputs": [
    {
     "name": "stdout",
     "output_type": "stream",
     "text": [
      "+----------+\n",
      "| count(*) |\n",
      "+----------+\n",
      "|   138    |\n",
      "+----------+\n"
     ]
    }
   ],
   "source": [
    "query = '''\n",
    "SELECT count(*) \n",
    "FROM (SELECT *\n",
    "      FROM frequency\n",
    "      WHERE docid = '10398_txt_earn') x;\n",
    "'''\n",
    "print query_db(db_name, query)"
   ]
  },
  {
   "cell_type": "markdown",
   "metadata": {},
   "source": [
    "__select project__"
   ]
  },
  {
   "cell_type": "markdown",
   "metadata": {},
   "source": [
    "$π_{term}(σ_{docid=10398-txt-earn-and-count=1}(frequency))$"
   ]
  },
  {
   "cell_type": "code",
   "execution_count": 4,
   "metadata": {
    "collapsed": false
   },
   "outputs": [
    {
     "name": "stdout",
     "output_type": "stream",
     "text": [
      "+----------+\n",
      "| count(*) |\n",
      "+----------+\n",
      "|   110    |\n",
      "+----------+\n"
     ]
    }
   ],
   "source": [
    "query = '''\n",
    "SELECT term \n",
    "FROM (SELECT *\n",
    "      FROM frequency\n",
    "      WHERE docid = '10398_txt_earn'\n",
    "      AND count = 1)\n",
    "'''\n",
    "\n",
    "nested_query = '''\n",
    "SELECT count(*)\n",
    "FROM ({0})\n",
    "'''.format(query)\n",
    "\n",
    "print query_db(db_name, nested_query)"
   ]
  },
  {
   "cell_type": "markdown",
   "metadata": {},
   "source": [
    "__Union__"
   ]
  },
  {
   "cell_type": "markdown",
   "metadata": {},
   "source": [
    "$π_{term}(σ_{docid=10398-txt-earn-and-count=1}(frequency))$ U $π_{term}(σ_{docid=925-txt-trade-and-count=1}(frequency))$"
   ]
  },
  {
   "cell_type": "code",
   "execution_count": 5,
   "metadata": {
    "collapsed": false
   },
   "outputs": [
    {
     "name": "stdout",
     "output_type": "stream",
     "text": [
      "+----------+\n",
      "| count(*) |\n",
      "+----------+\n",
      "|   324    |\n",
      "+----------+\n"
     ]
    }
   ],
   "source": [
    "query1 = '''\n",
    "SELECT term \n",
    "FROM (SELECT *\n",
    "      FROM frequency\n",
    "      WHERE docid = '10398_txt_earn'\n",
    "      AND count = 1)\n",
    "'''\n",
    "\n",
    "query2 = '''\n",
    "SELECT term \n",
    "FROM (SELECT *\n",
    "      FROM frequency\n",
    "      WHERE docid = '925_txt_trade'\n",
    "      AND count = 1)\n",
    "'''\n",
    "\n",
    "union1 = '''\n",
    "SELECT * \n",
    "FROM ({0} UNION {1})\n",
    "'''.format(query1, query2)\n",
    "\n",
    "nested_query = '''\n",
    "SELECT count(*)\n",
    "FROM ({0})\n",
    "'''.format(union1)\n",
    "\n",
    "print query_db(db_name, nested_query)"
   ]
  },
  {
   "cell_type": "markdown",
   "metadata": {},
   "source": [
    "__Count__"
   ]
  },
  {
   "cell_type": "markdown",
   "metadata": {},
   "source": [
    "Write a SQL statement to count the number of unique documents containing the word \"law\" or containing the word \"legal"
   ]
  },
  {
   "cell_type": "code",
   "execution_count": 6,
   "metadata": {
    "collapsed": false
   },
   "outputs": [
    {
     "name": "stdout",
     "output_type": "stream",
     "text": [
      "+----------+\n",
      "| count(*) |\n",
      "+----------+\n",
      "|    58    |\n",
      "+----------+\n"
     ]
    }
   ],
   "source": [
    "query = '''\n",
    "SELECT DISTINCT docid\n",
    "FROM frequency\n",
    "WHERE term = 'law'\n",
    "OR term = 'legal'\n",
    "'''\n",
    "\n",
    "nested_query = '''\n",
    "SELECT count(*)\n",
    "FROM ({0})\n",
    "'''.format(query)\n",
    "\n",
    "print query_db(db_name, nested_query)"
   ]
  },
  {
   "cell_type": "markdown",
   "metadata": {},
   "source": [
    "__big documents__"
   ]
  },
  {
   "cell_type": "markdown",
   "metadata": {},
   "source": [
    "Write a SQL statement to find all documents that have more than 300 total terms, including duplicate terms. \n",
    "\n",
    "(Hint: You can use the HAVING clause, or you can use a nested query. \n",
    "\n",
    "Another hint: Remember that the count column contains the term frequencies, and you want to consider duplicates.) (docid, term_count)\n",
    "\n",
    "__** Use a group by to count the terms per document, then find those documents that have more than 300 terms.__"
   ]
  },
  {
   "cell_type": "code",
   "execution_count": 7,
   "metadata": {
    "collapsed": false
   },
   "outputs": [
    {
     "name": "stdout",
     "output_type": "stream",
     "text": [
      "+----------+\n",
      "| count(*) |\n",
      "+----------+\n",
      "|    11    |\n",
      "+----------+\n"
     ]
    }
   ],
   "source": [
    "query1 = '''\n",
    "SELECT docid\n",
    "FROM frequency\n",
    "GROUP BY docid\n",
    "HAVING count(term) > 300\n",
    "'''\n",
    "\n",
    "\n",
    "nested_query = '''\n",
    "SELECT count(*)\n",
    "FROM ({0})\n",
    "'''.format(query1)\n",
    "\n",
    "print query_db(db_name, nested_query)"
   ]
  },
  {
   "cell_type": "markdown",
   "metadata": {},
   "source": [
    "__ two words__"
   ]
  },
  {
   "cell_type": "markdown",
   "metadata": {},
   "source": [
    "Write a SQL statement to count the number of unique documents that contain both the word 'transactions' and the word 'world'. \n",
    "\n",
    "(Hint: Find the docs that contain one word and the docs that contain the other word separately, then find the intersection.)"
   ]
  },
  {
   "cell_type": "code",
   "execution_count": 8,
   "metadata": {
    "collapsed": false
   },
   "outputs": [
    {
     "name": "stdout",
     "output_type": "stream",
     "text": [
      "+----------+\n",
      "| count(*) |\n",
      "+----------+\n",
      "|    3     |\n",
      "+----------+\n"
     ]
    }
   ],
   "source": [
    "query1 = '''\n",
    "SELECT *\n",
    "FROM frequency\n",
    "WHERE term = 'transactions'\n",
    "'''\n",
    "\n",
    "query2 = '''\n",
    "SELECT *\n",
    "FROM frequency\n",
    "WHERE term = 'world'\n",
    "'''\n",
    "\n",
    "intersect = '''\n",
    "SELECT docid \n",
    "FROM ({0})\n",
    "\n",
    "INTERSECT \n",
    "\n",
    "SELECT docid \n",
    "FROM ({1})\n",
    "'''.format(query1, query2)\n",
    "\n",
    "nested_query = '''\n",
    "SELECT count(*)\n",
    "FROM ({0})\n",
    "'''.format(intersect)\n",
    "\n",
    "print query_db(db_name, nested_query)"
   ]
  },
  {
   "cell_type": "markdown",
   "metadata": {},
   "source": [
    "---"
   ]
  },
  {
   "cell_type": "markdown",
   "metadata": {},
   "source": [
    "# Matrix Multiplication in SQL"
   ]
  },
  {
   "cell_type": "code",
   "execution_count": 9,
   "metadata": {
    "collapsed": false
   },
   "outputs": [
    {
     "name": "stdout",
     "output_type": "stream",
     "text": [
      "+---------+---------+-------+\n",
      "| row_num | col_num | value |\n",
      "+---------+---------+-------+\n",
      "|    0    |    3    |   55  |\n",
      "|    0    |    4    |   78  |\n",
      "|    1    |    0    |   19  |\n",
      "|    1    |    2    |   21  |\n",
      "|    1    |    3    |   3   |\n",
      "|    1    |    4    |   81  |\n",
      "|    2    |    1    |   48  |\n",
      "|    2    |    2    |   50  |\n",
      "|    2    |    3    |   1   |\n",
      "|    3    |    2    |   33  |\n",
      "|    3    |    4    |   67  |\n",
      "|    4    |    0    |   95  |\n",
      "|    4    |    4    |   31  |\n",
      "+---------+---------+-------+\n"
     ]
    }
   ],
   "source": [
    "query1 = '''\n",
    "SELECT * \n",
    "FROM a\n",
    "'''\n",
    "print query_db('matrix.db', query1)"
   ]
  },
  {
   "cell_type": "code",
   "execution_count": 10,
   "metadata": {
    "collapsed": false
   },
   "outputs": [
    {
     "name": "stdout",
     "output_type": "stream",
     "text": [
      "+---------+---------+-------+\n",
      "| row_num | col_num | value |\n",
      "+---------+---------+-------+\n",
      "|    0    |    1    |   73  |\n",
      "|    0    |    4    |   42  |\n",
      "|    1    |    2    |   82  |\n",
      "|    2    |    0    |   83  |\n",
      "|    2    |    1    |   13  |\n",
      "|    2    |    3    |   57  |\n",
      "|    3    |    0    |   48  |\n",
      "|    3    |    1    |   85  |\n",
      "|    3    |    2    |   18  |\n",
      "|    3    |    3    |   24  |\n",
      "|    4    |    0    |   98  |\n",
      "|    4    |    1    |   7   |\n",
      "|    4    |    4    |   3   |\n",
      "+---------+---------+-------+\n"
     ]
    }
   ],
   "source": [
    "query1 = '''\n",
    "SELECT * \n",
    "FROM b\n",
    "'''\n",
    "print query_db('matrix.db', query1)"
   ]
  },
  {
   "cell_type": "code",
   "execution_count": 11,
   "metadata": {
    "collapsed": false
   },
   "outputs": [
    {
     "name": "stdout",
     "output_type": "stream",
     "text": [
      "+---------+---------+-----+-----+-------+-------+------------+\n",
      "| row_num | col_num | j_a | j_b | a_val | b_val | cross_prod |\n",
      "+---------+---------+-----+-----+-------+-------+------------+\n",
      "|    0    |    0    |  3  |  3  |   55  |   48  |    2640    |\n",
      "|    0    |    1    |  3  |  3  |   55  |   85  |    4675    |\n",
      "|    0    |    2    |  3  |  3  |   55  |   18  |    990     |\n",
      "|    0    |    3    |  3  |  3  |   55  |   24  |    1320    |\n",
      "|    0    |    0    |  4  |  4  |   78  |   98  |    7644    |\n",
      "|    0    |    1    |  4  |  4  |   78  |   7   |    546     |\n",
      "|    0    |    4    |  4  |  4  |   78  |   3   |    234     |\n",
      "|    1    |    1    |  0  |  0  |   19  |   73  |    1387    |\n",
      "|    1    |    4    |  0  |  0  |   19  |   42  |    798     |\n",
      "|    1    |    0    |  2  |  2  |   21  |   83  |    1743    |\n",
      "|    1    |    1    |  2  |  2  |   21  |   13  |    273     |\n",
      "|    1    |    3    |  2  |  2  |   21  |   57  |    1197    |\n",
      "|    1    |    0    |  3  |  3  |   3   |   48  |    144     |\n",
      "|    1    |    1    |  3  |  3  |   3   |   85  |    255     |\n",
      "|    1    |    2    |  3  |  3  |   3   |   18  |     54     |\n",
      "|    1    |    3    |  3  |  3  |   3   |   24  |     72     |\n",
      "|    1    |    0    |  4  |  4  |   81  |   98  |    7938    |\n",
      "|    1    |    1    |  4  |  4  |   81  |   7   |    567     |\n",
      "|    1    |    4    |  4  |  4  |   81  |   3   |    243     |\n",
      "|    2    |    2    |  1  |  1  |   48  |   82  |    3936    |\n",
      "|    2    |    0    |  2  |  2  |   50  |   83  |    4150    |\n",
      "|    2    |    1    |  2  |  2  |   50  |   13  |    650     |\n",
      "|    2    |    3    |  2  |  2  |   50  |   57  |    2850    |\n",
      "|    2    |    0    |  3  |  3  |   1   |   48  |     48     |\n",
      "|    2    |    1    |  3  |  3  |   1   |   85  |     85     |\n",
      "|    2    |    2    |  3  |  3  |   1   |   18  |     18     |\n",
      "|    2    |    3    |  3  |  3  |   1   |   24  |     24     |\n",
      "|    3    |    0    |  2  |  2  |   33  |   83  |    2739    |\n",
      "|    3    |    1    |  2  |  2  |   33  |   13  |    429     |\n",
      "|    3    |    3    |  2  |  2  |   33  |   57  |    1881    |\n",
      "|    3    |    0    |  4  |  4  |   67  |   98  |    6566    |\n",
      "|    3    |    1    |  4  |  4  |   67  |   7   |    469     |\n",
      "|    3    |    4    |  4  |  4  |   67  |   3   |    201     |\n",
      "|    4    |    1    |  0  |  0  |   95  |   73  |    6935    |\n",
      "|    4    |    4    |  0  |  0  |   95  |   42  |    3990    |\n",
      "|    4    |    0    |  4  |  4  |   31  |   98  |    3038    |\n",
      "|    4    |    1    |  4  |  4  |   31  |   7   |    217     |\n",
      "|    4    |    4    |  4  |  4  |   31  |   3   |     93     |\n",
      "+---------+---------+-----+-----+-------+-------+------------+\n"
     ]
    }
   ],
   "source": [
    "query1 = '''\n",
    "SELECT a.row_num, b.col_num, a.col_num as j_a, b.row_num as j_b, a.value as a_val, b.value as b_val, a.value*b.value as cross_prod\n",
    "FROM a, b\n",
    "WHERE a.col_num = b.row_num\n",
    "'''\n",
    "\n",
    "print query_db('matrix.db', query1)"
   ]
  },
  {
   "cell_type": "code",
   "execution_count": 12,
   "metadata": {
    "collapsed": false
   },
   "outputs": [
    {
     "name": "stdout",
     "output_type": "stream",
     "text": [
      "+---------+---------+------------+\n",
      "| row_num | col_num | cross_prod |\n",
      "+---------+---------+------------+\n",
      "|    0    |    0    |    2640    |\n",
      "|    0    |    1    |    4675    |\n",
      "|    0    |    2    |    990     |\n",
      "|    0    |    3    |    1320    |\n",
      "|    0    |    0    |    7644    |\n",
      "|    0    |    1    |    546     |\n",
      "|    0    |    4    |    234     |\n",
      "|    1    |    1    |    1387    |\n",
      "|    1    |    4    |    798     |\n",
      "|    1    |    0    |    1743    |\n",
      "|    1    |    1    |    273     |\n",
      "|    1    |    3    |    1197    |\n",
      "|    1    |    0    |    144     |\n",
      "|    1    |    1    |    255     |\n",
      "|    1    |    2    |     54     |\n",
      "|    1    |    3    |     72     |\n",
      "|    1    |    0    |    7938    |\n",
      "|    1    |    1    |    567     |\n",
      "|    1    |    4    |    243     |\n",
      "|    2    |    2    |    3936    |\n",
      "|    2    |    0    |    4150    |\n",
      "|    2    |    1    |    650     |\n",
      "|    2    |    3    |    2850    |\n",
      "|    2    |    0    |     48     |\n",
      "|    2    |    1    |     85     |\n",
      "|    2    |    2    |     18     |\n",
      "|    2    |    3    |     24     |\n",
      "|    3    |    0    |    2739    |\n",
      "|    3    |    1    |    429     |\n",
      "|    3    |    3    |    1881    |\n",
      "|    3    |    0    |    6566    |\n",
      "|    3    |    1    |    469     |\n",
      "|    3    |    4    |    201     |\n",
      "|    4    |    1    |    6935    |\n",
      "|    4    |    4    |    3990    |\n",
      "|    4    |    0    |    3038    |\n",
      "|    4    |    1    |    217     |\n",
      "|    4    |    4    |     93     |\n",
      "+---------+---------+------------+\n"
     ]
    }
   ],
   "source": [
    "query1 = '''\n",
    "SELECT a.row_num, b.col_num, a.value*b.value as cross_prod\n",
    "FROM a, b\n",
    "WHERE a.col_num = b.row_num\n",
    "'''\n",
    "\n",
    "print query_db('matrix.db', query1)"
   ]
  },
  {
   "cell_type": "code",
   "execution_count": 13,
   "metadata": {
    "collapsed": false
   },
   "outputs": [
    {
     "name": "stdout",
     "output_type": "stream",
     "text": [
      "+---------+---------+-----------------+\n",
      "| row_num | col_num | SUM(cross_prod) |\n",
      "+---------+---------+-----------------+\n",
      "|    0    |    0    |      10284      |\n",
      "|    0    |    1    |       5221      |\n",
      "|    0    |    2    |       990       |\n",
      "|    0    |    3    |       1320      |\n",
      "|    0    |    4    |       234       |\n",
      "|    1    |    0    |       9825      |\n",
      "|    1    |    1    |       2482      |\n",
      "|    1    |    2    |        54       |\n",
      "|    1    |    3    |       1269      |\n",
      "|    1    |    4    |       1041      |\n",
      "|    2    |    0    |       4198      |\n",
      "|    2    |    1    |       735       |\n",
      "|    2    |    2    |       3954      |\n",
      "|    2    |    3    |       2874      |\n",
      "|    3    |    0    |       9305      |\n",
      "|    3    |    1    |       898       |\n",
      "|    3    |    3    |       1881      |\n",
      "|    3    |    4    |       201       |\n",
      "|    4    |    0    |       3038      |\n",
      "|    4    |    1    |       7152      |\n",
      "|    4    |    4    |       4083      |\n",
      "+---------+---------+-----------------+\n"
     ]
    }
   ],
   "source": [
    "query2 = '''\n",
    "SELECT row_num, col_num, SUM(cross_prod)\n",
    "FROM ({0})\n",
    "GROUP BY row_num, col_num\n",
    "'''.format(query1)\n",
    "\n",
    "print query_db('matrix.db', query2)"
   ]
  },
  {
   "cell_type": "code",
   "execution_count": 14,
   "metadata": {
    "collapsed": false
   },
   "outputs": [
    {
     "name": "stdout",
     "output_type": "stream",
     "text": [
      "+---------+---------+-----------------+\n",
      "| row_num | col_num | SUM(cross_prod) |\n",
      "+---------+---------+-----------------+\n",
      "|    2    |    3    |       2874      |\n",
      "+---------+---------+-----------------+\n"
     ]
    }
   ],
   "source": [
    "query3 = '''\n",
    "SELECT row_num, col_num, SUM(cross_prod)\n",
    "FROM ({0})\n",
    "WHERE (row_num = 2 AND col_num = 3)\n",
    "GROUP BY col_num, row_num\n",
    "'''.format(query1)\n",
    "\n",
    "print query_db('matrix.db', query3)"
   ]
  },
  {
   "cell_type": "markdown",
   "metadata": {},
   "source": [
    "# Working with a Term-Document Matrix"
   ]
  },
  {
   "cell_type": "code",
   "execution_count": 15,
   "metadata": {
    "collapsed": false
   },
   "outputs": [
    {
     "name": "stdout",
     "output_type": "stream",
     "text": [
      "+----------------+----------+-------+\n",
      "|     docid      |   term   | count |\n",
      "+----------------+----------+-------+\n",
      "| 10000_txt_earn |   net    |   1   |\n",
      "| 10000_txt_earn |  rogers  |   4   |\n",
      "| 10000_txt_earn | earnings |   2   |\n",
      "| 10000_txt_earn |  switch  |   1   |\n",
      "| 10000_txt_earn |   conn   |   1   |\n",
      "| 10000_txt_earn | revenues |   2   |\n",
      "| 10000_txt_earn |   cts    |   1   |\n",
      "| 10000_txt_earn | company  |   1   |\n",
      "| 10000_txt_earn |   ago    |   1   |\n",
      "| 10000_txt_earn | circuit  |   1   |\n",
      "+----------------+----------+-------+\n"
     ]
    }
   ],
   "source": [
    "query1 = '''\n",
    "SELECT * \n",
    "FROM frequency\n",
    "LIMIT 10\n",
    "'''\n",
    "\n",
    "print query_db(db_name, query1)"
   ]
  },
  {
   "cell_type": "markdown",
   "metadata": {},
   "source": [
    "### h.) similarity matrix"
   ]
  },
  {
   "cell_type": "code",
   "execution_count": 16,
   "metadata": {
    "collapsed": false
   },
   "outputs": [
    {
     "name": "stdout",
     "output_type": "stream",
     "text": [
      "+----------------+-----------------+--------------+--------------+---------+---------+------------+\n",
      "|      A_id      |       B_id      | A_share_term | B_share_term | A_count | B_count | cross_prod |\n",
      "+----------------+-----------------+--------------+--------------+---------+---------+------------+\n",
      "| 10000_txt_earn | 10080_txt_crude |     net      |     net      |    1    |    1    |     1      |\n",
      "| 10000_txt_earn |  10094_txt_earn |     net      |     net      |    1    |    3    |     3      |\n",
      "| 10000_txt_earn |  10097_txt_earn |     net      |     net      |    1    |    4    |     4      |\n",
      "| 10000_txt_earn |  1009_txt_earn  |     net      |     net      |    1    |    1    |     1      |\n",
      "| 10000_txt_earn |  10114_txt_earn |     net      |     net      |    1    |    1    |     1      |\n",
      "| 10000_txt_earn |  1011_txt_earn  |     net      |     net      |    1    |    6    |     6      |\n",
      "| 10000_txt_earn |  10130_txt_earn |     net      |     net      |    1    |    3    |     3      |\n",
      "| 10000_txt_earn |  10196_txt_earn |     net      |     net      |    1    |    3    |     3      |\n",
      "| 10000_txt_earn |  10233_txt_earn |     net      |     net      |    1    |    2    |     2      |\n",
      "| 10000_txt_earn |  10398_txt_earn |     net      |     net      |    1    |    2    |     2      |\n",
      "+----------------+-----------------+--------------+--------------+---------+---------+------------+\n"
     ]
    }
   ],
   "source": [
    "query1 = '''\n",
    "SELECT A.docid as A_id, B.docid as B_id, A.term as A_share_term,\n",
    "B.term as B_share_term, a.count as A_count, b.count as B_count, A.count*B.count as cross_prod\n",
    "\n",
    "FROM frequency as A, frequency as B\n",
    "WHERE A.term = B.term \n",
    "AND A.docid < B.docid\n",
    "LIMIT 10\n",
    "\n",
    "'''\n",
    "\n",
    "print query_db(db_name, query1)"
   ]
  },
  {
   "cell_type": "code",
   "execution_count": 17,
   "metadata": {
    "collapsed": false
   },
   "outputs": [
    {
     "name": "stdout",
     "output_type": "stream",
     "text": [
      "+-----------------+----------------+--------------+--------------+---------+---------+------------+\n",
      "|       A_id      |      B_id      | A_share_term | B_share_term | A_count | B_count | cross_prod |\n",
      "+-----------------+----------------+--------------+--------------+---------+---------+------------+\n",
      "| 10080_txt_crude | 17035_txt_earn |    april     |    april     |    1    |    2    |     2      |\n",
      "| 10080_txt_crude | 17035_txt_earn |    ended     |    ended     |    1    |    1    |     1      |\n",
      "| 10080_txt_crude | 17035_txt_earn |     inc      |     inc      |    1    |    1    |     1      |\n",
      "| 10080_txt_crude | 17035_txt_earn |     mln      |     mln      |    2    |    3    |     6      |\n",
      "| 10080_txt_crude | 17035_txt_earn |     net      |     net      |    1    |    3    |     3      |\n",
      "| 10080_txt_crude | 17035_txt_earn |    profit    |    profit    |    1    |    4    |     4      |\n",
      "| 10080_txt_crude | 17035_txt_earn |    reuter    |    reuter    |    1    |    1    |     1      |\n",
      "| 10080_txt_crude | 17035_txt_earn |     six      |     six      |    1    |    1    |     1      |\n",
      "+-----------------+----------------+--------------+--------------+---------+---------+------------+\n"
     ]
    }
   ],
   "source": [
    "query1 = '''\n",
    "SELECT A.docid as A_id, B.docid as B_id, A.term as A_share_term,\n",
    "B.term as B_share_term, a.count as A_count, b.count as B_count, A.count*B.count as cross_prod\n",
    "\n",
    "FROM frequency as A, frequency as B\n",
    "WHERE A.term = B.term \n",
    "AND A.docid < B.docid\n",
    "AND (A.docid = '10080_txt_crude' AND B.docid = '17035_txt_earn')\n",
    "'''\n",
    "\n",
    "print query_db(db_name, query1)"
   ]
  },
  {
   "cell_type": "code",
   "execution_count": 18,
   "metadata": {
    "collapsed": false
   },
   "outputs": [
    {
     "name": "stdout",
     "output_type": "stream",
     "text": [
      "+-----------------+\n",
      "| SUM(cross_prod) |\n",
      "+-----------------+\n",
      "|        19       |\n",
      "+-----------------+\n"
     ]
    }
   ],
   "source": [
    "query2 = '''\n",
    "SELECT SUM(cross_prod)\n",
    "FROM ({0})\n",
    "'''.format(query1)\n",
    "\n",
    "print query_db(db_name, query2)"
   ]
  },
  {
   "cell_type": "markdown",
   "metadata": {},
   "source": [
    "### i.) keyword search"
   ]
  },
  {
   "cell_type": "markdown",
   "metadata": {},
   "source": [
    "Add the query to the database as docid = 'q', and the terms of the query as terms.\n",
    "\n",
    "We wont print this one out since it's a large database with these 3 records added."
   ]
  },
  {
   "cell_type": "code",
   "execution_count": 19,
   "metadata": {
    "collapsed": false
   },
   "outputs": [],
   "source": [
    "query_add = '''\n",
    "SELECT * FROM frequency\n",
    "UNION\n",
    "SELECT 'q' as docid, 'washington' as term, 1 as count \n",
    "UNION\n",
    "SELECT 'q' as docid, 'taxes' as term, 1 as count\n",
    "UNION \n",
    "SELECT 'q' as docid, 'treasury' as term, 1 as count\n",
    "'''\n",
    "\n",
    "# print query_db(db_name, query_add)"
   ]
  },
  {
   "cell_type": "markdown",
   "metadata": {},
   "source": [
    "Now create a $DD^T$ similarity matrix using our updated database and filter by the query terms."
   ]
  },
  {
   "cell_type": "code",
   "execution_count": 20,
   "metadata": {
    "collapsed": false
   },
   "outputs": [
    {
     "name": "stdout",
     "output_type": "stream",
     "text": [
      "+--------------------+------+--------------+--------------+---------+---------+------------+\n",
      "|        A_id        | B_id | A_share_term | B_share_term | A_count | B_count | cross_prod |\n",
      "+--------------------+------+--------------+--------------+---------+---------+------------+\n",
      "|  16094_txt_trade   |  q   |  washington  |  washington  |    6    |    1    |     6      |\n",
      "|  16357_txt_trade   |  q   |  washington  |  washington  |    6    |    1    |     6      |\n",
      "| 19775_txt_interest |  q   |   treasury   |   treasury   |    5    |    1    |     5      |\n",
      "|  10623_txt_trade   |  q   |  washington  |  washington  |    5    |    1    |     5      |\n",
      "| 12774_txt_interest |  q   |   treasury   |   treasury   |    4    |    1    |     4      |\n",
      "|  233_txt_interest  |  q   |   treasury   |   treasury   |    4    |    1    |     4      |\n",
      "|   5964_txt_trade   |  q   |   treasury   |   treasury   |    4    |    1    |     4      |\n",
      "|  18399_txt_trade   |  q   |  washington  |  washington  |    4    |    1    |     4      |\n",
      "| 16681_txt_interest |  q   |   treasury   |   treasury   |    3    |    1    |     3      |\n",
      "| 18520_txt_interest |  q   |   treasury   |   treasury   |    3    |    1    |     3      |\n",
      "+--------------------+------+--------------+--------------+---------+---------+------------+\n"
     ]
    }
   ],
   "source": [
    "query_add_2 = '''\n",
    "SELECT A.docid as A_id, B.docid as B_id, A.term as A_share_term,\n",
    "B.term as B_share_term, a.count as A_count, b.count as B_count, A.count*B.count as cross_prod\n",
    "\n",
    "FROM ({0}) as A, ({0}) as B\n",
    "WHERE A.term = B.term \n",
    "AND A.docid < B.docid\n",
    "AND B.docid = 'q'\n",
    "\n",
    "ORDER BY cross_prod DESC\n",
    "\n",
    "LIMIT 10\n",
    "\n",
    "'''.format(query_add)\n",
    "\n",
    "print query_db(db_name, query_add_2)"
   ]
  },
  {
   "cell_type": "markdown",
   "metadata": {},
   "source": [
    "Now group the same documents together, and sum the total cross product of counts to include all of the terms.\n",
    "\n",
    "Not much is added since not many documents contain multiple words from our query."
   ]
  },
  {
   "cell_type": "code",
   "execution_count": 21,
   "metadata": {
    "collapsed": false
   },
   "outputs": [
    {
     "name": "stdout",
     "output_type": "stream",
     "text": [
      "+--------------------+------------------+\n",
      "|        A_id        | total_cross_prod |\n",
      "+--------------------+------------------+\n",
      "|  16094_txt_trade   |        6         |\n",
      "|  16357_txt_trade   |        6         |\n",
      "|  10623_txt_trade   |        5         |\n",
      "| 19775_txt_interest |        5         |\n",
      "| 12774_txt_interest |        4         |\n",
      "|  18399_txt_trade   |        4         |\n",
      "|  233_txt_interest  |        4         |\n",
      "|   5964_txt_trade   |        4         |\n",
      "| 16681_txt_interest |        3         |\n",
      "| 18520_txt_interest |        3         |\n",
      "+--------------------+------------------+\n"
     ]
    }
   ],
   "source": [
    "query_add_3 = '''\n",
    "SELECT A_id, SUM(cross_prod) as total_cross_prod\n",
    "FROM ({0})\n",
    "GROUP BY A_id\n",
    "ORDER BY total_cross_prod DESC\n",
    "LIMIT 10\n",
    "'''.format(query_add_2)\n",
    "\n",
    "print query_db(db_name, query_add_3)"
   ]
  },
  {
   "cell_type": "code",
   "execution_count": null,
   "metadata": {
    "collapsed": true
   },
   "outputs": [],
   "source": []
  }
 ],
 "metadata": {
  "kernelspec": {
   "display_name": "Python 2",
   "language": "python",
   "name": "python2"
  },
  "language_info": {
   "codemirror_mode": {
    "name": "ipython",
    "version": 2
   },
   "file_extension": ".py",
   "mimetype": "text/x-python",
   "name": "python",
   "nbconvert_exporter": "python",
   "pygments_lexer": "ipython2",
   "version": "2.7.13"
  }
 },
 "nbformat": 4,
 "nbformat_minor": 0
}
